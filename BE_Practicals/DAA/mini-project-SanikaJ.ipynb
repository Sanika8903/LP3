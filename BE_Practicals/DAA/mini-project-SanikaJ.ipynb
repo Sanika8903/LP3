{
 "cells": [
  {
   "cell_type": "markdown",
   "metadata": {},
   "source": [
    "Mini Project - Different exact and approximation algorithms for Travelling-Sales-Person Problem"
   ]
  },
  {
   "cell_type": "code",
   "execution_count": 2,
   "metadata": {},
   "outputs": [
    {
     "name": "stdout",
     "output_type": "stream",
     "text": [
      "Optimal Route (Brute-Force): (0, 1, 3, 2)\n",
      "Minimum Distance: 80\n",
      "Time taken: 0.0000 seconds\n"
     ]
    }
   ],
   "source": [
    "# 1. Brute-Force Approach (Exact Algorithm)\n",
    "# Python Implementation\n",
    "\n",
    "import itertools\n",
    "import sys\n",
    "import time\n",
    "def calculate_total_distance(route, distance_matrix):\n",
    "    total = 0\n",
    "    for i in range(len(route)):\n",
    "        total += distance_matrix[route[i]][route[(i + 1) % len(route)]]\n",
    "    return total\n",
    "\n",
    "\n",
    "def brute_force_tsp(distance_matrix):\n",
    "    n = len(distance_matrix)\n",
    "    cities = list(range(n))\n",
    "    min_distance = sys.maxsize\n",
    "    best_route = []\n",
    "# Generate all possible permutations of cities\n",
    "    for perm in itertools.permutations(cities):\n",
    "        current_distance = calculate_total_distance(perm, distance_matrix)\n",
    "        if current_distance < min_distance:\n",
    "            min_distance = current_distance\n",
    "            best_route = perm\n",
    "    return best_route, min_distance\n",
    "\n",
    "# Main execution\n",
    "if __name__ == \"__main__\":\n",
    "# Example distance matrix (symmetric)\n",
    "    distance_matrix = [\n",
    "    [0, 10, 15, 20],\n",
    "    [10, 0, 35, 25],\n",
    "    [15, 35, 0, 30],\n",
    "    [20, 25, 30, 0]\n",
    "    ]\n",
    "start_time = time.time()\n",
    "route, distance = brute_force_tsp(distance_matrix)\n",
    "end_time = time.time()\n",
    "print(\"Optimal Route (Brute-Force):\", route)\n",
    "print(\"Minimum Distance:\", distance)\n",
    "print(f\"Time taken: {end_time - start_time:.4f} seconds\")"
   ]
  },
  {
   "cell_type": "code",
   "execution_count": 3,
   "metadata": {},
   "outputs": [
    {
     "name": "stdout",
     "output_type": "stream",
     "text": [
      "Route (Nearest Neighbor): [0, 1, 3, 2, 0]\n",
      "Total Distance: 80\n",
      "Time taken: 0.000000 seconds\n"
     ]
    }
   ],
   "source": [
    "# 2. Nearest Neighbor Algorithm (Approximation Algorithm)\n",
    "# Python Implementation\n",
    "import time\n",
    "def nearest_neighbor_tsp(distance_matrix, start=0):\n",
    "    n = len(distance_matrix)\n",
    "    unvisited = set(range(n))\n",
    "    unvisited.remove(start)\n",
    "    route = [start]\n",
    "    total_distance = 0\n",
    "    current = start\n",
    "    while unvisited:\n",
    "        next_city = min(unvisited, key=lambda city: distance_matrix[current][city])\n",
    "        total_distance += distance_matrix[current][next_city]\n",
    "        route.append(next_city)\n",
    "        current = next_city\n",
    "        unvisited.remove(next_city)\n",
    "# Return to start\n",
    "    total_distance += distance_matrix[current][start]\n",
    "    route.append(start)\n",
    "    return route, total_distance\n",
    "# Main execution\n",
    "if __name__ == \"__main__\":\n",
    "# Example distance matrix (symmetric)\n",
    "    distance_matrix = [\n",
    "    [0, 10, 15, 20],\n",
    "    [10, 0, 35, 25],\n",
    "    [15, 35, 0, 30],\n",
    "    [20, 25, 30, 0]\n",
    "    ]\n",
    "\n",
    "start_time = time.time()\n",
    "route, distance = nearest_neighbor_tsp(distance_matrix)\n",
    "end_time = time.time()\n",
    "print(\"Route (Nearest Neighbor):\", route)\n",
    "print(\"Total Distance:\", distance)\n",
    "print(f\"Time taken: {end_time - start_time:.6f} seconds\")"
   ]
  }
 ],
 "metadata": {
  "kernelspec": {
   "display_name": "Python 3",
   "language": "python",
   "name": "python3"
  },
  "language_info": {
   "codemirror_mode": {
    "name": "ipython",
    "version": 3
   },
   "file_extension": ".py",
   "mimetype": "text/x-python",
   "name": "python",
   "nbconvert_exporter": "python",
   "pygments_lexer": "ipython3",
   "version": "3.11.0"
  }
 },
 "nbformat": 4,
 "nbformat_minor": 2
}
